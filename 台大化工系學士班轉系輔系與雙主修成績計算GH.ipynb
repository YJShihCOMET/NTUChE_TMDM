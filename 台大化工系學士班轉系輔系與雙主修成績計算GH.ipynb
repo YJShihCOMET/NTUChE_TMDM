{
 "cells": [
  {
   "attachments": {
    "510a30fc-ef8d-44fb-8154-094afea67390.png": {
     "image/png": "[encoded data removed]"
    },
    "65d3178c-ca8a-41da-8319-a0a1e200a16a.png": {
     "image/png": "[encoded data removed]"
    },
    "88febc5b-fc0b-4419-ab23-7191fbc80250.png": {
     "image/png": "[encoded data removed]"
    }
   },
   "cell_type": "markdown",
   "metadata": {},
   "source": [
    "# 使用教學  \n",
    "\n",
    "> <font size=4> 1. 請先和系辦曾小姐索取今年申請本系轉系、輔系或雙主修的學生成績檔案</font>   \n",
    "> <font size=4> 2. 若成績檔的檔案類型為.xls檔，請將其另存為.xlsx檔</font>    \n",
    "> <font size=4> 3. 點擊左上方的「![image.png](attachment:510a30fc-ef8d-44fb-8154-094afea67390.png)」圖示並按下左上方的「![image.png](attachment:88febc5b-fc0b-4419-ab23-7191fbc80250.png)」按鍵將這些新的xlsx檔上傳</font>    \n",
    "> <font size=4> 4. 到\"設定變數\"下的程式碼當中尋找變數grade_path，分別設定申請轉系、輔系或雙主修學生的成績檔的名稱</font>    \n",
    "> <font size=4> 5. 按下上方的「![image.png](attachment:65d3178c-ca8a-41da-8319-a0a1e200a16a.png)」按鍵執行以下3組程式碼</font>    \n",
    "> <font size=4> 6. 等程式跑完以後，在左方的檔案區中找到名稱含有\"results\"的xlsx檔案後，點右鍵下載至電腦</font>    \n",
    "> <font size=4> 7. 嘗試手動計算2~3位學生的平均成績並與結果檔案中記錄的平均成績進行比對</font>    \n",
    "> <font size=4> 8. 若無問題即可將結果寄給系辦曾小姐</font>  \n",
    ">     \n",
    "> <font size=3> 若有任何問題請聯繫作者施彥任(F08524004@ntu.edu.tw)</font>    \n",
    "> <font size=3> 最後編輯時間：2023/7/12</font>  "
   ]
  },
  {
   "cell_type": "markdown",
   "metadata": {},
   "source": [
    "# 載入模組"
   ]
  },
  {
   "cell_type": "code",
   "execution_count": 1,
   "metadata": {},
   "outputs": [],
   "source": [
    "from ntuche_tmdm import arrangement"
   ]
  },
  {
   "cell_type": "markdown",
   "metadata": {},
   "source": [
    "# 設定變數"
   ]
  },
  {
   "cell_type": "code",
   "execution_count": 2,
   "metadata": {
    "scrolled": true,
    "tags": []
   },
   "outputs": [],
   "source": [
    "\"\"\"\n",
    "Parameters\n",
    "----------\n",
    "core_course1 : list, str\n",
    "    本校所有微積分、普通化學與普通物理學課名的共通字串\n",
    "grade_path: list, str\n",
    "    存放申請輔系、轉系與雙主修學生的成績檔案儲存路徑\n",
    "\"\"\"\n",
    "core_course1= ['微積分', '普通化學', '普通物理學']\n",
    "grade_path = ['111輔系.xlsx', '111轉系.xlsx', '111雙主修.xlsx']"
   ]
  },
  {
   "cell_type": "markdown",
   "metadata": {},
   "source": [
    "# 執行計算並儲存為excel檔"
   ]
  },
  {
   "cell_type": "code",
   "execution_count": 3,
   "metadata": {
    "scrolled": true,
    "tags": []
   },
   "outputs": [],
   "source": [
    "\"\"\"\n",
    "Parameters\n",
    "----------\n",
    "savepathi: str\n",
    "    結果檔案的儲存路徑\n",
    "studentrank: object of class \"arrangement\"\n",
    "    執行所有計算的物件\n",
    "sheetnamei: str\n",
    "    結果檔案的工作表名稱\n",
    "\"\"\"\n",
    "\n",
    "for grade_pathi in grade_path:\n",
    "    grade_path1, grade_path2 = grade_pathi.split('.')\n",
    "    savepathi = grade_path1 + '_results.' + grade_path2\n",
    "    studentranki = arrangement(grade_pathi, core_course1)\n",
    "    sheetnamei = 'results'\n",
    "    studentranki.save_df_data(studentranki.df_alldata, savepathi, sheetnamei)"
   ]
  }
 ],
 "metadata": {
  "kernelspec": {
   "display_name": "Python 3 (ipykernel)",
   "language": "python",
   "name": "python3"
  },
  "language_info": {
   "codemirror_mode": {
    "name": "ipython",
    "version": 3
   },
   "file_extension": ".py",
   "mimetype": "text/x-python",
   "name": "python",
   "nbconvert_exporter": "python",
   "pygments_lexer": "ipython3",
   "version": "3.10.2"
  }
 },
 "nbformat": 4,
 "nbformat_minor": 4
}
